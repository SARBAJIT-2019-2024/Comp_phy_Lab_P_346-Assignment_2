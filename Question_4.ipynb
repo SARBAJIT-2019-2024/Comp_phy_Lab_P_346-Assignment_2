{
 "cells": [
  {
   "cell_type": "code",
   "execution_count": 8,
   "source": [
    "#Question 4\r\n",
    "#Creating a hangman game of 24 countries that played in the last 2019 FIFA women’s World Cup football final and their capital cities, guessing the capital cities offering 40% of the word length as (integer) number of chances for wrong guess.\r\n",
    "\r\n",
    "#importing random and math\r\n",
    "import random\r\n",
    "import math\r\n",
    "\r\n",
    "with open(\"Wordlist_FIFA_Hangman.txt\",'r') as f: #Calling the .txt file where all the 24 capitals had been stored\r\n",
    "    wordlist = f.readlines()\r\n",
    "\r\n",
    "Choice_Words = random.choice(wordlist)[:-1] # Creating a variable which will select random words from the file\r\n",
    "Your_Guess =[]\r\n",
    "l=len(Choice_Words) #length of word\r\n",
    "\r\n",
    "\r\n",
    "Guessing_errors = math.ceil(l*0.4) # As no wrong Guesses is 40% of total word length\r\n",
    "print(\"There are 24 countries that had been participated in 2019 FIFA Womens' World Cup,The game is about to guess their capitals, You've\",Guessing_errors,  \"chances to guess the capital correctly, BEST OF LUCK!\")\r\n",
    "  \r\n",
    "  \r\n",
    "done = False\r\n",
    "while not done:\r\n",
    "    for letter in Choice_Words:\r\n",
    "        if letter.lower() in Your_Guess:\r\n",
    "            print(letter,end=\" \")\r\n",
    "        else:\r\n",
    "            print(\"_\", end=\" \")\r\n",
    "    print(\"\") \r\n",
    "    \r\n",
    "    \r\n",
    "    guess = input(f\"Allowed errors left for guessing the word {Guessing_errors}, Next Guess:'\")\r\n",
    "    \r\n",
    "\r\n",
    "    Your_Guess.append(guess.lower())\r\n",
    "    if guess.lower() not in Choice_Words.lower():\r\n",
    "        Guessing_errors-=1\r\n",
    "        if Guessing_errors==0:\r\n",
    "            break\r\n",
    "    \r\n",
    "\r\n",
    "\r\n",
    "    done = True\r\n",
    "    for letter in Choice_Words:\r\n",
    "        if letter.lower() not in Your_Guess:\r\n",
    "            done = False\r\n",
    "            \r\n",
    "if done:\r\n",
    "    print(\"Congratulations! you won! ,You guessed the word correctly ! The word was\", Choice_Words  )\r\n",
    "else:\r\n",
    "    print (\"Game over! You've reached maximum no. of attempts, the word was\",Choice_Words)  "
   ],
   "outputs": [
    {
     "output_type": "stream",
     "name": "stdout",
     "text": [
      "There are 24 countries that had been participated in 2019 FIFA Womens' World Cup,The game is about to guess their capitals, You've 4 chances to guess the capital correctly, BEST OF LUCK!\n",
      "_ _ _ _ _ _ _ _ \n",
      "_ _ _ _ _ _ _ _ \n",
      "_ _ _ _ _ _ o _ \n",
      "_ _ _ _ _ t o _ \n",
      "_ _ _ _ _ t o _ \n",
      "_ _ n _ _ t o n \n",
      "_ _ n _ _ t o n \n",
      "Game over! You've reached maximum no. of attempts, the word was Kingston\n"
     ]
    }
   ],
   "metadata": {}
  },
  {
   "cell_type": "code",
   "execution_count": 11,
   "source": [
    "#Running the function again for showing another output\r\n",
    "\r\n",
    "import random\r\n",
    "import math\r\n",
    "\r\n",
    "with open(\"Wordlist_FIFA_Hangman.txt\",'r') as f: #Calling the .txt file where all the 24 capitals had been stored\r\n",
    "    wordlist = f.readlines()\r\n",
    "\r\n",
    "Choice_Words = random.choice(wordlist)[:-1] # Creating a variable which will select random words from the file\r\n",
    "Your_Guess =[]\r\n",
    "l=len(Choice_Words) #length of word\r\n",
    "\r\n",
    "\r\n",
    "Guessing_errors = math.ceil(l*0.4) # As no wrong Guesses is 40% of total word length\r\n",
    "print(\"There are 24 countries that had been participated in 2019 FIFA Womens' World Cup,The game is about to guess their capitals, You've\",Guessing_errors,  \"chances to guess the capital correctly, BEST OF LUCK!\")\r\n",
    "  \r\n",
    "  \r\n",
    "done = False\r\n",
    "while not done:\r\n",
    "    for letter in Choice_Words:\r\n",
    "        if letter.lower() in Your_Guess:\r\n",
    "            print(letter,end=\" \")\r\n",
    "        else:\r\n",
    "            print(\"_\", end=\" \")\r\n",
    "    print(\"\") \r\n",
    "    \r\n",
    "    \r\n",
    "    guess = input(f\"Allowed errors left for guessing the word {Guessing_errors}, Next Guess:'\")\r\n",
    "    \r\n",
    "\r\n",
    "    Your_Guess.append(guess.lower())\r\n",
    "    if guess.lower() not in Choice_Words.lower():\r\n",
    "        Guessing_errors-=1\r\n",
    "        if Guessing_errors==0:\r\n",
    "            break\r\n",
    "    \r\n",
    "\r\n",
    "\r\n",
    "    done = True\r\n",
    "    for letter in Choice_Words:\r\n",
    "        if letter.lower() not in Your_Guess:\r\n",
    "            done = False\r\n",
    "            \r\n",
    "if done:\r\n",
    "    print(\"Congratulations! you won! ,You guessed the word correctly ! The word was\", Choice_Words  )\r\n",
    "else:\r\n",
    "    print (\"Game over! You've reached maximum no. of attempts, the word was\",Choice_Words) "
   ],
   "outputs": [
    {
     "output_type": "stream",
     "name": "stdout",
     "text": [
      "There are 24 countries that had been participated in 2019 FIFA Womens' World Cup,The game is about to guess their capitals, You've 3 chances to guess the capital correctly, BEST OF LUCK!\n",
      "_ _ _ _ _ _ \n",
      "L _ _ _ _ _ \n",
      "L _ n _ _ n \n",
      "L o n _ o n \n",
      "Congratulations! you won! ,You guessed the word correctly ! The word was London\n"
     ]
    }
   ],
   "metadata": {}
  }
 ],
 "metadata": {
  "orig_nbformat": 4,
  "language_info": {
   "name": "python",
   "version": "3.9.6",
   "mimetype": "text/x-python",
   "codemirror_mode": {
    "name": "ipython",
    "version": 3
   },
   "pygments_lexer": "ipython3",
   "nbconvert_exporter": "python",
   "file_extension": ".py"
  },
  "kernelspec": {
   "name": "python3",
   "display_name": "Python 3.9.6 64-bit"
  },
  "interpreter": {
   "hash": "dcacb0086e9a4f4eabd41c33bf4faac5ea0a3337ed3f5eff0680afa930572c04"
  }
 },
 "nbformat": 4,
 "nbformat_minor": 2
}