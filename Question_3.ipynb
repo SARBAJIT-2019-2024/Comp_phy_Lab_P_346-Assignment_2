{
 "cells": [
  {
   "cell_type": "code",
   "execution_count": 13,
   "source": [
    "#Question 3\r\n",
    "#Find the average distance between two points on a straight line made of N discrete equidistant points.\r\n",
    "\r\n",
    "\r\n",
    "def Average_distance(N): #Defining the input\r\n",
    "    k=0\r\n",
    "    Distant=0\r\n",
    "    #introducing two nested for loops, 'i' will change the reference points and j will continuously jump from 1,2,3....,N-1\r\n",
    "    for i in range (N):\r\n",
    "        for j in range(N):\r\n",
    "            k+=1\r\n",
    "            Distant+=abs(j-i) #for each iteration the absolute value of the distance will add with it's previous one\r\n",
    "    return (Distant/k)      #Diving by the total no. of iteration for calculating the average.    \r\n"
   ],
   "outputs": [],
   "metadata": {}
  },
  {
   "cell_type": "code",
   "execution_count": 14,
   "source": [
    "Average_distance(3)# for N=3 points"
   ],
   "outputs": [
    {
     "output_type": "execute_result",
     "data": {
      "text/plain": [
       "0.8888888888888888"
      ]
     },
     "metadata": {},
     "execution_count": 14
    }
   ],
   "metadata": {}
  },
  {
   "cell_type": "code",
   "execution_count": 15,
   "source": [
    "Average_distance(7)# for N=7 points"
   ],
   "outputs": [
    {
     "output_type": "execute_result",
     "data": {
      "text/plain": [
       "2.2857142857142856"
      ]
     },
     "metadata": {},
     "execution_count": 15
    }
   ],
   "metadata": {}
  },
  {
   "cell_type": "code",
   "execution_count": 16,
   "source": [
    "Average_distance(2)# for N=2 points"
   ],
   "outputs": [
    {
     "output_type": "execute_result",
     "data": {
      "text/plain": [
       "0.5"
      ]
     },
     "metadata": {},
     "execution_count": 16
    }
   ],
   "metadata": {}
  },
  {
   "cell_type": "code",
   "execution_count": 17,
   "source": [
    "Average_distance(10)# for N=10 points"
   ],
   "outputs": [
    {
     "output_type": "execute_result",
     "data": {
      "text/plain": [
       "3.3"
      ]
     },
     "metadata": {},
     "execution_count": 17
    }
   ],
   "metadata": {}
  },
  {
   "cell_type": "code",
   "execution_count": 18,
   "source": [
    "Average_distance(4)# for N=4 points"
   ],
   "outputs": [
    {
     "output_type": "execute_result",
     "data": {
      "text/plain": [
       "1.25"
      ]
     },
     "metadata": {},
     "execution_count": 18
    }
   ],
   "metadata": {}
  }
 ],
 "metadata": {
  "orig_nbformat": 4,
  "language_info": {
   "name": "python",
   "version": "3.9.6",
   "mimetype": "text/x-python",
   "codemirror_mode": {
    "name": "ipython",
    "version": 3
   },
   "pygments_lexer": "ipython3",
   "nbconvert_exporter": "python",
   "file_extension": ".py"
  },
  "kernelspec": {
   "name": "python3",
   "display_name": "Python 3.9.6 64-bit"
  },
  "interpreter": {
   "hash": "dcacb0086e9a4f4eabd41c33bf4faac5ea0a3337ed3f5eff0680afa930572c04"
  }
 },
 "nbformat": 4,
 "nbformat_minor": 2
}